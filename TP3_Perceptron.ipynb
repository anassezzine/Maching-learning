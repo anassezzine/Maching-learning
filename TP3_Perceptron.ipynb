{
 "cells": [
  {
   "cell_type": "markdown",
   "id": "8f71b51a",
   "metadata": {},
   "source": [
    "# TP3 - Implémentation du Perceptron\n",
    "\n",
    "Ce notebook implémente le perceptron binaire avec et sans biais."
   ]
  },
  {
   "cell_type": "code",
   "execution_count": null,
   "id": "af47ae23",
   "metadata": {},
   "outputs": [],
   "source": [
    "\n",
    "import numpy as np\n",
    "import matplotlib.pyplot as plt\n",
    "    "
   ]
  },
  {
   "cell_type": "markdown",
   "id": "1b3cec57",
   "metadata": {},
   "source": [
    "## Génération des données linéairement séparables"
   ]
  },
  {
   "cell_type": "code",
   "execution_count": null,
   "id": "d315654c",
   "metadata": {},
   "outputs": [],
   "source": [
    "\n",
    "def generateData(n):\n",
    "    xb = (np.random.rand(n) * 2 - 1) / 2 - 0.5\n",
    "    yb = (np.random.rand(n) * 2 - 1) / 2 + 0.5\n",
    "    xr = (np.random.rand(n) * 2 - 1) / 2 + 0.5\n",
    "    yr = (np.random.rand(n) * 2 - 1) / 2 - 0.5\n",
    "\n",
    "    inputs = []\n",
    "    for i in range(n):\n",
    "        inputs.append([xb[i], yb[i], -1])\n",
    "        inputs.append([xr[i], yr[i], 1])\n",
    "\n",
    "    data = np.array(inputs)\n",
    "    X = data[:, 0:2]\n",
    "    Y = data[:, -1]\n",
    "\n",
    "    return X, Y\n",
    "\n",
    "n = 50\n",
    "X, Y = generateData(n)\n",
    "\n",
    "plt.figure(figsize=(6,6))\n",
    "plt.scatter(X[Y == -1, 0], X[Y == -1, 1], color='blue', label=\"Classe -1\")\n",
    "plt.scatter(X[Y == 1, 0], X[Y == 1, 1], color='red', label=\"Classe 1\")\n",
    "plt.xlabel(\"x1\")\n",
    "plt.ylabel(\"x2\")\n",
    "plt.title(\"Données linéairement séparables\")\n",
    "plt.legend()\n",
    "plt.grid()\n",
    "plt.show()\n",
    "    "
   ]
  },
  {
   "cell_type": "markdown",
   "id": "e73bd954",
   "metadata": {},
   "source": [
    "## Implémentation du perceptron"
   ]
  },
  {
   "cell_type": "code",
   "execution_count": null,
   "id": "9ea8180c",
   "metadata": {},
   "outputs": [],
   "source": [
    "\n",
    "def perceptron(X, Y, max_iter=100):\n",
    "    w = np.zeros(X.shape[1])\n",
    "    \n",
    "    for _ in range(max_iter):\n",
    "        misclassified = False\n",
    "        for i in range(len(Y)):\n",
    "            if Y[i] * np.dot(w, X[i]) <= 0:\n",
    "                w += Y[i] * X[i]\n",
    "                misclassified = True\n",
    "        if not misclassified:\n",
    "            break\n",
    "    \n",
    "    return w\n",
    "\n",
    "w = perceptron(X, Y)\n",
    "    "
   ]
  },
  {
   "cell_type": "markdown",
   "id": "c1e8749d",
   "metadata": {},
   "source": [
    "## Tracé de l'hyperplan séparateur"
   ]
  },
  {
   "cell_type": "code",
   "execution_count": null,
   "id": "80e1fed0",
   "metadata": {},
   "outputs": [],
   "source": [
    "\n",
    "plt.figure(figsize=(6,6))\n",
    "plt.scatter(X[Y == -1, 0], X[Y == -1, 1], color='blue', label=\"Classe -1\")\n",
    "plt.scatter(X[Y == 1, 0], X[Y == 1, 1], color='red', label=\"Classe 1\")\n",
    "\n",
    "x_line = np.linspace(-1, 1, 10)\n",
    "y_line = - (w[0] / w[1]) * x_line\n",
    "plt.plot(x_line, y_line, 'k-', label=\"Hyperplan séparateur\")\n",
    "\n",
    "plt.xlabel(\"x1\")\n",
    "plt.ylabel(\"x2\")\n",
    "plt.title(\"Perceptron - Hyperplan appris\")\n",
    "plt.legend()\n",
    "plt.grid()\n",
    "plt.show()\n",
    "    "
   ]
  },
  {
   "cell_type": "markdown",
   "id": "08f27713",
   "metadata": {},
   "source": [
    "## Génération de données avec un hyperplan non centré à l'origine"
   ]
  },
  {
   "cell_type": "code",
   "execution_count": null,
   "id": "de2393df",
   "metadata": {},
   "outputs": [],
   "source": [
    "\n",
    "def generateData2(n):\n",
    "    xb = (np.random.rand(n) * 2 - 1) / 2 + 0.5\n",
    "    yb = (np.random.rand(n) * 2 - 1) / 2\n",
    "    xr = (np.random.rand(n) * 2 - 1) / 2 + 1.5\n",
    "    yr = (np.random.rand(n) * 2 - 1) / 2 - 0.5\n",
    "\n",
    "    inputs = []\n",
    "    for i in range(n):\n",
    "        inputs.append([xb[i], yb[i], -1])\n",
    "        inputs.append([xr[i], yr[i], 1])\n",
    "\n",
    "    data = np.array(inputs)\n",
    "    X = data[:, 0:2]\n",
    "    Y = data[:, -1]\n",
    "\n",
    "    return X, Y\n",
    "\n",
    "X2, Y2 = generateData2(n)\n",
    "\n",
    "plt.figure(figsize=(6,6))\n",
    "plt.scatter(X2[Y2 == -1, 0], X2[Y2 == -1, 1], color='blue', label=\"Classe -1\")\n",
    "plt.scatter(X2[Y2 == 1, 0], X2[Y2 == 1, 1], color='red', label=\"Classe 1\")\n",
    "plt.xlabel(\"x1\")\n",
    "plt.ylabel(\"x2\")\n",
    "plt.title(\"Données avec hyperplan décalé\")\n",
    "plt.legend()\n",
    "plt.grid()\n",
    "plt.show()\n",
    "    "
   ]
  },
  {
   "cell_type": "markdown",
   "id": "6e89622e",
   "metadata": {},
   "source": [
    "## Complétion des données et réentraînement du perceptron avec biais"
   ]
  },
  {
   "cell_type": "code",
   "execution_count": null,
   "id": "7254d36b",
   "metadata": {},
   "outputs": [],
   "source": [
    "\n",
    "def complete(sample):\n",
    "    return np.hstack((sample, np.ones((sample.shape[0], 1))))\n",
    "\n",
    "X2_complete = complete(X2)\n",
    "w2 = perceptron(X2_complete, Y2)\n",
    "    "
   ]
  },
  {
   "cell_type": "markdown",
   "id": "438caf64",
   "metadata": {},
   "source": [
    "## Affichage de l'hyperplan avec biais"
   ]
  },
  {
   "cell_type": "code",
   "execution_count": null,
   "id": "14672714",
   "metadata": {},
   "outputs": [],
   "source": [
    "\n",
    "plt.figure(figsize=(6,6))\n",
    "plt.scatter(X2[Y2 == -1, 0], X2[Y2 == -1, 1], color='blue', label=\"Classe -1\")\n",
    "plt.scatter(X2[Y2 == 1, 0], X2[Y2 == 1, 1], color='red', label=\"Classe 1\")\n",
    "\n",
    "x_line = np.linspace(-1, 2, 10)\n",
    "y_line = - (w2[0] * x_line + w2[2]) / w2[1]\n",
    "plt.plot(x_line, y_line, 'k-', label=\"Hyperplan séparateur\")\n",
    "\n",
    "plt.xlabel(\"x1\")\n",
    "plt.ylabel(\"x2\")\n",
    "plt.title(\"Perceptron avec biais - Hyperplan appris\")\n",
    "plt.legend()\n",
    "plt.grid()\n",
    "plt.show()\n",
    "    "
   ]
  }
 ],
 "metadata": {},
 "nbformat": 4,
 "nbformat_minor": 5
}
